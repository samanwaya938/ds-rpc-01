{
 "cells": [
  {
   "cell_type": "code",
   "execution_count": 5,
   "id": "ca4ed3f1",
   "metadata": {},
   "outputs": [],
   "source": [
    "from langchain.document_loaders import CSVLoader, UnstructuredMarkdownLoader, PyPDFLoader, UnstructuredFileLoader\n",
    "from langchain_openai import ChatOpenAI\n",
    "from langchain.embeddings.openai import OpenAIEmbeddings\n",
    "from langchain_huggingface import HuggingFaceEmbeddings\n",
    "from langchain.text_splitter import RecursiveCharacterTextSplitter\n",
    "from langchain.vectorstores import FAISS\n",
    "from dotenv import load_dotenv\n",
    "import os\n",
    "from pathlib import Path"
   ]
  },
  {
   "cell_type": "code",
   "execution_count": 3,
   "id": "119010e8",
   "metadata": {},
   "outputs": [],
   "source": [
    "load_dotenv()\n",
    "\n",
    "os.environ['OPENAI_API_KEY'] = os.getenv('OPENAI_API_KEY')\n",
    "llm = ChatOpenAI(model='gpt-4o-mini', temperature=0.6)\n",
    "# embeddings = OpenAIEmbeddings()"
   ]
  },
  {
   "cell_type": "code",
   "execution_count": 65,
   "id": "6e55745b",
   "metadata": {},
   "outputs": [
    {
     "data": {
      "text/plain": [
       "AIMessage(content='Hello! How can I assist you today?', additional_kwargs={'refusal': None}, response_metadata={'token_usage': {'completion_tokens': 9, 'prompt_tokens': 8, 'total_tokens': 17, 'completion_tokens_details': {'accepted_prediction_tokens': 0, 'audio_tokens': 0, 'reasoning_tokens': 0, 'rejected_prediction_tokens': 0}, 'prompt_tokens_details': {'audio_tokens': 0, 'cached_tokens': 0}}, 'model_name': 'gpt-4o-mini-2024-07-18', 'system_fingerprint': 'fp_34a54ae93c', 'id': 'chatcmpl-BgvzRpwJQ5hirLeo7hry0qQPteysp', 'finish_reason': 'stop', 'logprobs': None}, id='run--48f94ba8-f890-4313-b55d-d6ec1de86a70-0', usage_metadata={'input_tokens': 8, 'output_tokens': 9, 'total_tokens': 17, 'input_token_details': {'audio': 0, 'cache_read': 0}, 'output_token_details': {'audio': 0, 'reasoning': 0}})"
      ]
     },
     "execution_count": 65,
     "metadata": {},
     "output_type": "execute_result"
    }
   ],
   "source": [
    "llm.invoke(\"Hello\")"
   ]
  },
  {
   "cell_type": "code",
   "execution_count": 4,
   "id": "d5edfa8d",
   "metadata": {},
   "outputs": [],
   "source": [
    "role_docs  = {\n",
    "  \"engineering\": r\"..\\resources\\data\\engineering\",\n",
    "  \"finance\": r\"..\\resources\\data\\finance\",\n",
    "  \"general\": r\"..\\resources\\data\\general\",\n",
    "  \"hr\": r\"..\\resources\\data\\hr\",\n",
    "  \"marketing\": r\"..\\resources\\data\\marketing\"\n",
    "}\n"
   ]
  },
  {
   "cell_type": "code",
   "execution_count": 11,
   "id": "b37b8273",
   "metadata": {},
   "outputs": [],
   "source": [
    "def vector_db():\n",
    "  role_vectorstores = {}\n",
    "  embeddings = HuggingFaceEmbeddings(model_name=\"sentence-transformers/all-MiniLM-L6-v2\")\n",
    "  text_splitter = RecursiveCharacterTextSplitter(\n",
    "      chunk_size=1000,\n",
    "      chunk_overlap=200,\n",
    "      separators=[\"\\n\\n\", \"\\n\", \" \", \"\"])\n",
    "\n",
    "  for role, folder_path in role_docs.items():\n",
    "    folder_path = os.path.normpath(folder_path)\n",
    "\n",
    "    if not os.path.exists(folder_path):\n",
    "      print(f\"⚠️ Warning: Directory '{folder_path}' does not exist. Skipping role '{role}'.\")\n",
    "      continue\n",
    "    print(f\"Processed with {role} {folder_path}\")\n",
    "    documents = []\n",
    "\n",
    "    \n",
    "    for filename in os.listdir(folder_path):\n",
    "      file_path = os.path.join(folder_path, filename)\n",
    "\n",
    "      if not os.path.isfile(file_path):\n",
    "        print(f\"No file Present in {folder_path}\")\n",
    "        continue\n",
    "\n",
    "      try:\n",
    "        if filename.lower().endswith(\".md\"):\n",
    "          md_loader = UnstructuredMarkdownLoader(file_path)\n",
    "          docs = md_loader.load()\n",
    "\n",
    "        elif filename.lower().endswith(\".pdf\"):\n",
    "          pdf_loader = PyPDFLoader(file_path)\n",
    "          docs = pdf_loader.load()\n",
    "\n",
    "        elif filename.lower().endswith(\".csv\"):\n",
    "          csv_laoder = CSVLoader(file_path)\n",
    "          docs = csv_laoder.load()\n",
    "\n",
    "        else:\n",
    "          print(f\"   ⚠️ Trying unstructured loader for: {filename}\")\n",
    "          file_loader = UnstructuredFileLoader(file_path)\n",
    "          docs = file_loader.load()\n",
    "\n",
    "        documents.extend(docs)\n",
    "        print(f\" ✅ Loaded {filename} ({len(docs)} documents)\")          \n",
    "\n",
    "      except Exception as e:\n",
    "        print(f\"Failed to load {filename}: {str(e)}\")\n",
    "        continue\n",
    "\n",
    "    if not documents:\n",
    "      print(f\"⚠️ No documents found for {role}\")\n",
    "      continue\n",
    "    chunks = text_splitter.split_documents(documents)\n",
    "\n",
    "    try:\n",
    "      vector_db = FAISS.from_documents(chunks, embeddings)\n",
    "      role_vectorstores[role] = vector_db\n",
    "      print(f\"🧠 Created vector store for {role} with {len(chunks)} chunks\")\n",
    "\n",
    "    except Exception as e:\n",
    "      print(f\"Vector DB is not created for {role}: {str(e)}\")\n",
    "  \n",
    "  return role_vectorstores\n",
    "  "
   ]
  },
  {
   "cell_type": "code",
   "execution_count": 6,
   "id": "9f40df4d",
   "metadata": {},
   "outputs": [
    {
     "name": "stderr",
     "output_type": "stream",
     "text": [
      "d:\\RAG\\ds-rpc-01\\venv\\lib\\site-packages\\tqdm\\auto.py:21: TqdmWarning: IProgress not found. Please update jupyter and ipywidgets. See https://ipywidgets.readthedocs.io/en/stable/user_install.html\n",
      "  from .autonotebook import tqdm as notebook_tqdm\n"
     ]
    },
    {
     "name": "stdout",
     "output_type": "stream",
     "text": [
      "Processed with engineering ..\\resources\\data\\engineering\n",
      " ✅ Loaded engineering_master_doc.md (1 documents)\n",
      "🧠 Created vector store for engineering with 33 chunks\n",
      "Processed with finance ..\\resources\\data\\finance\n",
      " ✅ Loaded financial_summary.md (1 documents)\n",
      " ✅ Loaded quarterly_financial_report.md (1 documents)\n",
      "🧠 Created vector store for finance with 23 chunks\n",
      "Processed with general ..\\resources\\data\\general\n",
      " ✅ Loaded employee_handbook.md (1 documents)\n",
      "🧠 Created vector store for general with 16 chunks\n",
      "Processed with hr ..\\resources\\data\\hr\n",
      " ✅ Loaded hr_data.csv (100 documents)\n",
      "🧠 Created vector store for hr with 100 chunks\n",
      "Processed with marketing ..\\resources\\data\\marketing\n",
      " ✅ Loaded marketing_report_2024 - Copy.md (1 documents)\n",
      " ✅ Loaded marketing_report_2024.md (1 documents)\n",
      " ✅ Loaded marketing_report_q1_2024.md (1 documents)\n",
      " ✅ Loaded marketing_report_q2_2024.md (1 documents)\n",
      " ✅ Loaded marketing_report_q3_2024.md (1 documents)\n",
      " ✅ Loaded market_report_q4_2024.md (1 documents)\n",
      "🧠 Created vector store for marketing with 50 chunks\n",
      "💾 Saved vector store for engineering\n",
      "💾 Saved vector store for finance\n",
      "💾 Saved vector store for general\n",
      "💾 Saved vector store for hr\n",
      "💾 Saved vector store for marketing\n",
      "\n",
      "Completed processing all roles!\n"
     ]
    }
   ],
   "source": [
    "vectorstores = vector_db()\n",
    "    \n",
    "    # Save vector stores to disk\n",
    "for role, store in vectorstores.items():\n",
    "    safe_role = \"\".join(c for c in role if c.isalnum() or c in \"_-\").rstrip()\n",
    "    store.save_local(f\"vectorstore_{safe_role}\")\n",
    "    print(f\"💾 Saved vector store for {role}\")\n",
    "\n",
    "print(\"\\nCompleted processing all roles!\")"
   ]
  },
  {
   "cell_type": "code",
   "execution_count": 8,
   "id": "b5a0c065",
   "metadata": {},
   "outputs": [
    {
     "data": {
      "text/plain": [
       "{'input': 'Cash Flow Analysis',\n",
       " 'context': [Document(id='e622a387-8eef-494c-8b96-97cb32afe574', metadata={'source': '..\\\\resources\\\\data\\\\finance\\\\financial_summary.md'}, page_content='Other Operational Expenses - A mix of general operational and administrative expenses totaling $15M, with a notable increase in travel and miscellaneous office costs, which grew by 8% year-over-year.\\n\\nCash Flow Analysis:\\n\\nFinSolve Technologies’s cash flow from operations remained positive, amounting to $50M, a 20% increase over the prior year. However, the delayed payment cycles from several key vendors resulted in accounts payable delays, which slightly impacted cash liquidity during the second half of 2024. Addressing these delays, particularly in vendor payments, will be crucial to ensuring smoother cash flow management.\\n\\nCash Flow from Investing Activities: Investments in research and development, new market entry, and acquisitions amounted to $15M, representing 20% of total cash flows. While these investments are crucial for long-term growth, they reduced short-term liquidity, which is something that should be monitored closely.'),\n",
       "  Document(id='720bf024-8c5c-4384-a79e-53ec32bb4f12', metadata={'source': '..\\\\resources\\\\data\\\\finance\\\\quarterly_financial_report.md'}, page_content='Quarterly Expense Breakdown\\n\\nExpenses were strategically allocated to support growth initiatives:\\n\\nVendor Services: $120 million, with 40% ($48 million) allocated to marketing-related activities, including digital advertisements and corporate events.\\n\\nEmployee Benefits & HR: $45 million, up 15% YoY due to increased staffing and employee development programs.\\n\\nSoftware Subscriptions: $45 million, up 18% YoY, reflecting expanded reliance on cloud-based platforms for operational scalability.\\n\\nOther Operational Expenses: $30 million, covering travel, office supplies, and administrative costs.\\n\\nCash Flow Analysis\\n\\nCash flow performance underscored FinSolve Technologies’s financial health:\\n\\nCash Flow from Operations: $300 million, up 10% YoY, driven by strong revenue and efficient working capital management.\\n\\nCash Flow from Investing: $50 million, allocated to research and development (R&D) and market expansion initiatives.'),\n",
       "  Document(id='9d703b4d-8102-4718-9045-ff829a7294ca', metadata={'source': '..\\\\resources\\\\data\\\\finance\\\\quarterly_financial_report.md'}, page_content='Other Operational Expenses: $40 million, covering final-quarter events and administrative costs.\\n\\nCash Flow Analysis\\n\\nCash flow performance supported long-term growth:\\n\\nCash Flow from Operations: $450 million, up 18% YoY, driven by strong holiday sales and efficient working capital management.\\n\\nCash Flow from Investing: $80 million, allocated to product enhancements and global expansion.\\n\\nCash Flow from Financing: $35 million, securing funds for sustained growth in 2025.\\n\\nRisks & Mitigation\\n\\nRisk: Increased vendor charges during the holiday season.\\n\\nMitigation: Streamlined procurement processes and negotiated fixed-cost agreements to control expenses.\\n\\nRisk: Revenue growth pressure in North America due to market saturation.\\n\\nMitigation: Launched aggressive digital marketing campaigns to capture additional market share.\\n\\n2024 Annual Summary'),\n",
       "  Document(id='93e13dd7-0d57-46a0-b74f-40a73741d43f', metadata={'source': '..\\\\resources\\\\data\\\\finance\\\\quarterly_financial_report.md'}, page_content='Cash Flow from Investing: $50 million, allocated to research and development (R&D) and market expansion initiatives.\\n\\nCash Flow from Financing: $20 million, reflecting net inflows for working capital optimization.\\n\\nRisks & Mitigation\\n\\nRisk: Increased vendor costs due to market conditions.\\n\\nMitigation: Initiated vendor negotiations and implemented cost reduction strategies to optimize procurement.\\n\\nRisk: Delays in accounts payable processing.\\n\\nMitigation: Streamlined payment workflows and renegotiated vendor contracts to improve cash flow efficiency.\\n\\nQ2 - April to June 2024\\n\\nQuarterly Financial Overview\\n\\nQ2 2024 built on Q1’s momentum, with accelerated revenue growth and improved profitability. Key financial highlights include:\\n\\nRevenue: $2.3 billion, up 25% YoY, fueled by strong performance in existing markets and early traction in Southeast Asia.\\n\\nGross Margin: 60%, driven by higher-margin product offerings and operational efficiencies.')],\n",
       " 'answer': \"FinSolve Technologies's cash flow analysis indicates a strong financial position, with cash flow from operations amounting to $450 million, reflecting an 18% year-over-year increase. Cash flow from investing activities totaled $80 million, primarily focused on product enhancements and global expansion. Additionally, cash flow from financing was $35 million, supporting sustained growth into 2025.\"}"
      ]
     },
     "execution_count": 8,
     "metadata": {},
     "output_type": "execute_result"
    }
   ],
   "source": [
    "from langchain.chains import create_retrieval_chain\n",
    "from langchain.chains.combine_documents import create_stuff_documents_chain\n",
    "from langchain_core.prompts import ChatPromptTemplate\n",
    "\n",
    "system_prompt = (\n",
    "    \"Use the given context to answer the question. \"\n",
    "    \"If you don't know the answer, say you don't know. \"\n",
    "    \"Use three sentence maximum and keep the answer concise. \"\n",
    "    \"Context: {context}\"\n",
    ")\n",
    "\n",
    "prompt = ChatPromptTemplate.from_messages(\n",
    "    [\n",
    "        (\"system\", system_prompt),\n",
    "        (\"human\", \"{input}\"),\n",
    "    ]\n",
    ")\n",
    "\n",
    "retriver = vectorstores[\"finance\"].as_retriever()\n",
    "question_answer_chain = create_stuff_documents_chain(llm, prompt)\n",
    "chain = create_retrieval_chain(retriver, question_answer_chain)\n",
    "\n",
    "chain.invoke({\"input\": \"Cash Flow Analysis\"})"
   ]
  },
  {
   "cell_type": "code",
   "execution_count": 70,
   "id": "a827514e",
   "metadata": {},
   "outputs": [
    {
     "name": "stdout",
     "output_type": "stream",
     "text": [
      "Answer: I don't know.\n",
      "\n",
      "Sources used:\n",
      "- ..\\resources\\data\\general\\employee_handbook.md\n",
      "- ..\\resources\\data\\general\\employee_handbook.md\n",
      "- ..\\resources\\data\\general\\employee_handbook.md\n",
      "- ..\\resources\\data\\general\\employee_handbook.md\n",
      "- ..\\resources\\data\\general\\employee_handbook.md\n"
     ]
    }
   ],
   "source": [
    "from langchain.chains import create_retrieval_chain\n",
    "from langchain.chains.combine_documents import create_stuff_documents_chain\n",
    "from langchain_core.prompts import ChatPromptTemplate\n",
    "\n",
    "# 1. Improved system prompt with clearer instructions\n",
    "system_prompt = (\n",
    "    \"You are an expert assistant specialized in company documentation. \"\n",
    "    \"Answer the user's question using ONLY the provided context. \"\n",
    "    \"If the answer cannot be found in the context, say 'I don't know'. \"\n",
    "    \"Keep your answer concise (2-3 sentences maximum).\\n\\n\"\n",
    "    \"Context:\\n{context}\"\n",
    ")\n",
    "\n",
    "# 2. Create the prompt template\n",
    "prompt = ChatPromptTemplate.from_messages([\n",
    "    (\"system\", system_prompt),\n",
    "    (\"human\", \"{input}\"),\n",
    "])\n",
    "\n",
    "# 3. IMPORTANT: Initialize your vector stores first!\n",
    "# This should be done BEFORE this code snippet\n",
    "# vectorstores = load_vector_stores()  # Use your loading function\n",
    "\n",
    "# 4. Create retriever - added error handling\n",
    "try:\n",
    "    # Use the specific vector store for a role\n",
    "    retriever = vectorstores[\"general\"].as_retriever(\n",
    "        search_kwargs={\"k\": 5}  # Retrieve top 5 documents\n",
    "    )\n",
    "except KeyError:\n",
    "    raise ValueError(\"Vector store for 'general' role not found\")\n",
    "\n",
    "# 5. Initialize LLM (missing in your code)\n",
    "# This should be done BEFORE creating chains\n",
    "# Example: \n",
    "# from langchain_community.chat_models import ChatOpenAI\n",
    "# llm = ChatOpenAI(model=\"gpt-3.5-turbo\")\n",
    "\n",
    "# 6. Create the chains\n",
    "question_answer_chain = create_stuff_documents_chain(llm, prompt)\n",
    "chain = create_retrieval_chain(retriever, question_answer_chain)\n",
    "\n",
    "# 7. Invoke the chain - improved with proper input handling\n",
    "query = \"Your question about general policies here...\"\n",
    "result = chain.invoke({\"input\": query})\n",
    "\n",
    "# 8. Access results properly\n",
    "print(\"Answer:\", result[\"answer\"])\n",
    "print(\"\\nSources used:\")\n",
    "for doc in result[\"context\"]:\n",
    "    print(f\"- {doc.metadata['source']}\")"
   ]
  },
  {
   "cell_type": "code",
   "execution_count": 12,
   "id": "90db79c1",
   "metadata": {},
   "outputs": [],
   "source": [
    "import os\n",
    "def load_vector_store(role: str):\n",
    "    path = f\"vectorstore_{role}\"\n",
    "    print(path)\n",
    "    if not os.path.exists(path):\n",
    "        print(f\"❌ Path not found: {path}\")\n",
    "        raise FileNotFoundError(f\"No vectorstore for role '{role}'\")\n",
    "    return FAISS.load_local(path, embeddings=HuggingFaceEmbeddings(model_name=\"sentence-transformers/all-MiniLM-L6-v2\"), allow_dangerous_deserialization=True)"
   ]
  },
  {
   "cell_type": "code",
   "execution_count": 13,
   "id": "bbabbe1d",
   "metadata": {},
   "outputs": [
    {
     "name": "stdout",
     "output_type": "stream",
     "text": [
      "vectorstore_hr\n"
     ]
    },
    {
     "name": "stderr",
     "output_type": "stream",
     "text": [
      "d:\\RAG\\ds-rpc-01\\venv\\lib\\site-packages\\tqdm\\auto.py:21: TqdmWarning: IProgress not found. Please update jupyter and ipywidgets. See https://ipywidgets.readthedocs.io/en/stable/user_install.html\n",
      "  from .autonotebook import tqdm as notebook_tqdm\n"
     ]
    },
    {
     "data": {
      "text/plain": [
       "<langchain_community.vectorstores.faiss.FAISS at 0x18bb3325b10>"
      ]
     },
     "execution_count": 13,
     "metadata": {},
     "output_type": "execute_result"
    }
   ],
   "source": [
    "load_vector_store(\"hr\")"
   ]
  },
  {
   "cell_type": "code",
   "execution_count": null,
   "id": "ec83f601",
   "metadata": {},
   "outputs": [],
   "source": []
  }
 ],
 "metadata": {
  "kernelspec": {
   "display_name": "venv",
   "language": "python",
   "name": "python3"
  },
  "language_info": {
   "codemirror_mode": {
    "name": "ipython",
    "version": 3
   },
   "file_extension": ".py",
   "mimetype": "text/x-python",
   "name": "python",
   "nbconvert_exporter": "python",
   "pygments_lexer": "ipython3",
   "version": "3.10.8"
  }
 },
 "nbformat": 4,
 "nbformat_minor": 5
}
